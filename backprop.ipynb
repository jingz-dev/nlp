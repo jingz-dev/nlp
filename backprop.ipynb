{
 "cells": [
  {
   "cell_type": "code",
   "execution_count": 7,
   "metadata": {},
   "outputs": [
    {
     "name": "stdout",
     "output_type": "stream",
     "text": [
      "w: 1.932633419138312, b: 3.914857242747328\n"
     ]
    }
   ],
   "source": [
    "class Linear:\n",
    "    def __init__(self, learning_rate=0.01):\n",
    "        self.w = 0.1\n",
    "        self.b = 0.1\n",
    "        self.learning_rate = learning_rate\n",
    "    \n",
    "    def forward(self, x):\n",
    "        return self.w * x + self.b\n",
    "    \n",
    "    def backward(self, x, dL_dy):\n",
    "        self.dL_dw = dL_dy * x\n",
    "        self.dL_db = dL_dy\n",
    "    \n",
    "    def update(self):\n",
    "        self.w -= self.learning_rate * self.dL_dw\n",
    "        self.b -= self.learning_rate * self.dL_db\n",
    "\n",
    "# Initialize the Linear model\n",
    "l = Linear(learning_rate=0.01)\n",
    "\n",
    "# Training loop\n",
    "import random\n",
    "x_train = list(range(10))\n",
    "y_train = [2 * i + 3 + random.random() for i in x_train]\n",
    "for i in range(10000):\n",
    "    x = x_train[i%10]  # input\n",
    "    y_hat = l.forward(x)\n",
    "    y = y_train[i%10]  # target\n",
    "    \n",
    "    # loss\n",
    "    dL_dy = -2 * (y - y_hat)\n",
    "    \n",
    "    l.backward(x, dL_dy)\n",
    "    l.update()\n",
    "\n",
    "print(f\"w: {l.w}, b: {l.b}\")"
   ]
  },
  {
   "cell_type": "code",
   "execution_count": null,
   "metadata": {},
   "outputs": [],
   "source": []
  }
 ],
 "metadata": {
  "kernelspec": {
   "display_name": "NLP",
   "language": "python",
   "name": "python3"
  },
  "language_info": {
   "codemirror_mode": {
    "name": "ipython",
    "version": 3
   },
   "file_extension": ".py",
   "mimetype": "text/x-python",
   "name": "python",
   "nbconvert_exporter": "python",
   "pygments_lexer": "ipython3",
   "version": "3.10.11"
  }
 },
 "nbformat": 4,
 "nbformat_minor": 2
}
