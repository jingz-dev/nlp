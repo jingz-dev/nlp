{
 "cells": [
  {
   "cell_type": "code",
   "execution_count": null,
   "metadata": {},
   "outputs": [],
   "source": [
    "# gradient descent\n",
    "\n",
    "# y = ax + b\n",
    "\n",
    "# dy/dx = a\n",
    "'''\n",
    "x = 0  ... y = 1\n",
    "x = 1  ....y = 2\n",
    "x = 2  ... y = 3\n",
    "\n",
    "'''\n",
    "\n",
    "class Linear:\n",
    "    def __init__(self):\n",
    "        self.w = 0.1\n",
    "        self.b = 0.1\n",
    "    \n",
    "    def forward(self, x):\n",
    "        return self.w * x + self.b\n",
    "    \n",
    "    def backward(self, dL):\n",
    "        pass\n",
    "\n",
    "    def update(self, w, b):\n",
    "        pass\n",
    "\n",
    "l = Linear()\n",
    "for _ in range(100):\n",
    "    y_hat = l.forward(0)\n",
    "    y = 1\n",
    "    dyh = 2(y-y_hat)\n",
    "    l.backward(dyh)\n"
   ]
  },
  {
   "cell_type": "code",
   "execution_count": 5,
   "metadata": {},
   "outputs": [
    {
     "name": "stdout",
     "output_type": "stream",
     "text": [
      "w: 2.019922576445011, b: 3.5520418929494326\n"
     ]
    }
   ],
   "source": [
    "class Linear:\n",
    "    def __init__(self, learning_rate=0.01):\n",
    "        self.w = 0.1\n",
    "        self.b = 0.1\n",
    "        self.learning_rate = learning_rate\n",
    "    \n",
    "    def forward(self, x):\n",
    "        return self.w * x + self.b\n",
    "    \n",
    "    def backward(self, x, dL_dy):\n",
    "        self.dL_dw = dL_dy * x\n",
    "        self.dL_db = dL_dy\n",
    "    \n",
    "    def update(self):\n",
    "        self.w -= self.learning_rate * self.dL_dw\n",
    "        self.b -= self.learning_rate * self.dL_db\n",
    "\n",
    "# Initialize the Linear model\n",
    "l = Linear(learning_rate=0.01)\n",
    "\n",
    "# Training loop\n",
    "import random\n",
    "x_train = list(range(10))\n",
    "y_train = [2 * i + 3 + random.random() for i in x_train]\n",
    "for i in range(10000):\n",
    "    x = x_train[i%10]  # input\n",
    "    y_hat = l.forward(x)\n",
    "    y = y_train[i%10]  # target\n",
    "    \n",
    "    # loss\n",
    "    dL_dy = -2 * (y - y_hat)\n",
    "    \n",
    "    l.backward(x, dL_dy)\n",
    "    l.update()\n",
    "\n",
    "print(f\"w: {l.w}, b: {l.b}\")"
   ]
  },
  {
   "cell_type": "code",
   "execution_count": null,
   "metadata": {},
   "outputs": [],
   "source": []
  }
 ],
 "metadata": {
  "kernelspec": {
   "display_name": "NLP",
   "language": "python",
   "name": "python3"
  },
  "language_info": {
   "codemirror_mode": {
    "name": "ipython",
    "version": 3
   },
   "file_extension": ".py",
   "mimetype": "text/x-python",
   "name": "python",
   "nbconvert_exporter": "python",
   "pygments_lexer": "ipython3",
   "version": "3.10.11"
  }
 },
 "nbformat": 4,
 "nbformat_minor": 2
}
