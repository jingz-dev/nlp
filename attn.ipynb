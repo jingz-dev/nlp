{
 "cells": [
  {
   "cell_type": "code",
   "execution_count": 96,
   "metadata": {},
   "outputs": [],
   "source": [
    "import numpy as np\n",
    "d = 7\n",
    "d_k = 10\n",
    "d_v = 5\n",
    "word_1 = np.random.normal(0, 1, size=(1, d))\n",
    "word_2 = np.random.normal(0, 1, size=(1, d))\n",
    "word_3 = np.random.normal(0, 1, size=(1, d))\n",
    "word_4 = np.random.normal(0, 1, size=(1, d))"
   ]
  },
  {
   "cell_type": "code",
   "execution_count": 97,
   "metadata": {},
   "outputs": [],
   "source": [
    "np.random.seed(0)\n",
    "\n",
    "W_Q = np.random.normal(0, 1, size=(d, d_k))\n",
    "W_K = np.random.normal(0, 1, size=(d, d_k))\n",
    "W_V = np.random.normal(0, 1, size=(d, d_v))"
   ]
  },
  {
   "cell_type": "code",
   "execution_count": 123,
   "metadata": {},
   "outputs": [],
   "source": [
    "q_1 = word_1 @ W_Q\n",
    "k_1 = word_1 @ W_K\n",
    "v_1 = word_1 @ W_V\n",
    "\n",
    "q_2 = word_2 @ W_Q\n",
    "k_2 = word_2 @ W_K\n",
    "v_2 = word_2 @ W_V\n",
    "\n",
    "q_3 = word_3 @ W_Q\n",
    "k_3 = word_3 @ W_K\n",
    "v_3 = word_3 @ W_V\n",
    "\n",
    "q_4 = word_4 @ W_Q\n",
    "k_4 = word_4 @ W_K\n",
    "v_4 = word_4 @ W_V"
   ]
  },
  {
   "cell_type": "code",
   "execution_count": 124,
   "metadata": {},
   "outputs": [
    {
     "data": {
      "text/plain": [
       "(1, 10)"
      ]
     },
     "execution_count": 124,
     "metadata": {},
     "output_type": "execute_result"
    }
   ],
   "source": [
    "k_1.shape"
   ]
  },
  {
   "cell_type": "code",
   "execution_count": 125,
   "metadata": {},
   "outputs": [],
   "source": [
    "attn_scores = np.array([np.dot(q_1, k_1.T), np.dot(q_1, k_2.T), np.dot(q_1, k_3.T), np.dot(q_1, k_4.T)])"
   ]
  },
  {
   "cell_type": "code",
   "execution_count": 133,
   "metadata": {},
   "outputs": [
    {
     "name": "stdout",
     "output_type": "stream",
     "text": [
      "[[ 0.9769109  -3.23957895  0.11956248  4.06694761  0.59151333]]\n"
     ]
    }
   ],
   "source": [
    "from scipy.special import softmax\n",
    "\n",
    "weights = softmax(attn_scores / k_1.shape[0] ** 0.5) # var(dot(q, k)) = d_k, var(dot(q, k) / sqrt(d_k)) = 1\n",
    "attention = (weights[0] * v_1) + (weights[1] * v_2) + (weights[2] * v_3) + (weights[3] * v_4)\n",
    "print(attention)"
   ]
  },
  {
   "cell_type": "code",
   "execution_count": 153,
   "metadata": {},
   "outputs": [
    {
     "name": "stdout",
     "output_type": "stream",
     "text": [
      "[[ 0.54171139 -2.32534376 -0.53255017  3.50681119  0.4224472 ]\n",
      " [ 0.85981335 -2.96807095 -0.03262619  3.89949033  0.54038676]\n",
      " [ 2.79540653 -7.49766691 -3.04395933  4.71897613  2.74293518]\n",
      " [ 1.58162268 -4.70290806 -1.76520953  4.03062347  1.51134194]]\n"
     ]
    }
   ],
   "source": [
    "X = np.concatenate([word_1, word_2, word_3, word_4])\n",
    "\n",
    "Q = X @ W_Q\n",
    "K = X @ W_K\n",
    "V = X @ W_V\n",
    "\n",
    "scores = Q @ K.T\n",
    "\n",
    "\n",
    "'''\n",
    "[[score1]\n",
    "[score2]\n",
    "...\n",
    "]\n",
    "'''\n",
    "weights = softmax(scores / K.shape[1] ** 0.5, axis=1) \n",
    "\n",
    "attention = weights @ V\n",
    "\n",
    "print(attention)"
   ]
  },
  {
   "cell_type": "markdown",
   "metadata": {},
   "source": [
    "#### memo on softmax and aggregation functions' axis"
   ]
  },
  {
   "cell_type": "code",
   "execution_count": 155,
   "metadata": {},
   "outputs": [
    {
     "data": {
      "text/plain": [
       "array([[1.],\n",
       "       [1.],\n",
       "       [1.],\n",
       "       [1.]])"
      ]
     },
     "execution_count": 155,
     "metadata": {},
     "output_type": "execute_result"
    }
   ],
   "source": [
    "np.sum(weights, axis=1, keepdims=True)"
   ]
  },
  {
   "cell_type": "code",
   "execution_count": 151,
   "metadata": {},
   "outputs": [
    {
     "data": {
      "text/plain": [
       "array([[1, 2, 3],\n",
       "       [4, 5, 6]])"
      ]
     },
     "execution_count": 151,
     "metadata": {},
     "output_type": "execute_result"
    }
   ],
   "source": [
    "test = np.array([[1, 2, 3], [4, 5, 6]])\n",
    "test"
   ]
  },
  {
   "cell_type": "code",
   "execution_count": 152,
   "metadata": {},
   "outputs": [
    {
     "data": {
      "text/plain": [
       "array([[5, 7, 9]])"
      ]
     },
     "execution_count": 152,
     "metadata": {},
     "output_type": "execute_result"
    }
   ],
   "source": [
    "np.sum(test, axis=0, keepdims=True) # when aggregating on an axis, the axis size becomes 1 after the operation."
   ]
  },
  {
   "cell_type": "code",
   "execution_count": null,
   "metadata": {},
   "outputs": [],
   "source": []
  }
 ],
 "metadata": {
  "kernelspec": {
   "display_name": "NLP",
   "language": "python",
   "name": "python3"
  },
  "language_info": {
   "codemirror_mode": {
    "name": "ipython",
    "version": 3
   },
   "file_extension": ".py",
   "mimetype": "text/x-python",
   "name": "python",
   "nbconvert_exporter": "python",
   "pygments_lexer": "ipython3",
   "version": "3.10.11"
  }
 },
 "nbformat": 4,
 "nbformat_minor": 2
}
